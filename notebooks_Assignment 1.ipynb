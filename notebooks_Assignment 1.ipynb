{
  "metadata": {
    "language_info": {
      "codemirror_mode": {
        "name": "python",
        "version": 3
      },
      "file_extension": ".py",
      "mimetype": "text/x-python",
      "name": "python",
      "nbconvert_exporter": "python",
      "pygments_lexer": "ipython3",
      "version": "3.8"
    },
    "kernelspec": {
      "name": "python",
      "display_name": "Python (Pyodide)",
      "language": "python"
    }
  },
  "nbformat_minor": 4,
  "nbformat": 4,
  "cells": [
    {
      "cell_type": "code",
      "source": "#Write a Fibonacci series between 0 to 50:\n    \n#The value of function at any n is represented as: F(n) = F(n-1) + F(n-2) with initial conditions F(0) = 0 & F(1) = 1:\n",
      "metadata": {
        "trusted": true
      },
      "execution_count": 3,
      "outputs": []
    },
    {
      "cell_type": "raw",
      "source": "",
      "metadata": {}
    },
    {
      "cell_type": "markdown",
      "source": "n = 50 \n\nseries_1 = 0 \nseries_2 = 1 \n\nif n == 2:\n    print(series_1)\n    print(series_2)\nelse:\n    print(series_1)\n    print(series_2)\n    for i in range(n-2):\n        next_series = series_1 + series_2\n        print(next_series)\n        series_1 = series_2\n        series_2 = next_series\n        \n        ",
      "metadata": {}
    }
  ]
}